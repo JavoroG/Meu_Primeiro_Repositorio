{
 "cells": [
  {
   "cell_type": "code",
   "execution_count": null,
   "metadata": {},
   "outputs": [],
   "source": [
    "#Mao na massa\n",
    "#Atividade 1\n",
    "saldo = 950.60\n",
    "retira = float(input('quanto dinheiro deseja sacar?'))\n",
    "saldo -= retira\n",
    "print(f'Seu novo saldo e {saldo}')"
   ]
  },
  {
   "cell_type": "code",
   "execution_count": null,
   "metadata": {},
   "outputs": [],
   "source": [
    "frutas = set()\n",
    "for i in range(5):\n",
    "    fruta = str(input('Digite fruta'))\n",
    "    frutas.add(fruta)\n",
    "print(frutas)\n"
   ]
  },
  {
   "cell_type": "code",
   "execution_count": 23,
   "metadata": {},
   "outputs": [
    {
     "name": "stdout",
     "output_type": "stream",
     "text": [
      "O t*mp* m*d* c*m *l* m*sm*\n"
     ]
    }
   ],
   "source": [
    "frase = input('Digite un frase')\n",
    "\n",
    "for  i in frase:\n",
    "  frase = frase.replace('a', '*').replace('e', '*').replace('io', '*').replace('o', '*').replace('u', '*')\n",
    "print(frase)\n"
   ]
  }
 ],
 "metadata": {
  "kernelspec": {
   "display_name": "Python 3",
   "language": "python",
   "name": "python3"
  },
  "language_info": {
   "codemirror_mode": {
    "name": "ipython",
    "version": 3
   },
   "file_extension": ".py",
   "mimetype": "text/x-python",
   "name": "python",
   "nbconvert_exporter": "python",
   "pygments_lexer": "ipython3",
   "version": "3.12.1"
  }
 },
 "nbformat": 4,
 "nbformat_minor": 2
}
