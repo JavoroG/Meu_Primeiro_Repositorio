{
 "cells": [
  {
   "cell_type": "code",
   "execution_count": 18,
   "metadata": {},
   "outputs": [],
   "source": [
    "from plyer import notification\n",
    "from datetime import *\n",
    "import random\n",
    "\n",
    "def alerta(nivel, base, etapa):\n",
    "\n",
    "    if nivel == 1:\n",
    "        notification.notify(\n",
    "            title = f\"Alerta baja, Nivel {nivel}\",\n",
    "            message = f\"Falha no carregamento da base {base} na etapa {etapa}. \\n{datetime.now()}\",\n",
    "            timeout = 10,\n",
    "            \n",
    "        )\n",
    "    elif nivel == 2:\n",
    "        notification.notify(\n",
    "            title = f\"Alerta Medio, Nivel {nivel}\",\n",
    "            message = f\"Falha no carregamento da base {base} na etapa {etapa}. \\n{datetime.now()}\",\n",
    "            timeout = 10,\n",
    "            \n",
    "        )\n",
    "    else:\n",
    "        notification.notify(\n",
    "            title = f\"Alerta alto, Nivel {nivel}\",\n",
    "            message = f\"Falha no carregamento da base {base} na etapa {etapa}. \\n{datetime.now()}\",\n",
    "            timeout = 10,\n",
    "            \n",
    "        )    \n",
    "    \n",
    "prioridade = random.randint(1,3)\n",
    "alerta(prioridade, 'Clientes', 'Extracao')\n"
   ]
  },
  {
   "cell_type": "code",
   "execution_count": null,
   "metadata": {},
   "outputs": [],
   "source": []
  }
 ],
 "metadata": {
  "kernelspec": {
   "display_name": "Python 3",
   "language": "python",
   "name": "python3"
  },
  "language_info": {
   "codemirror_mode": {
    "name": "ipython",
    "version": 3
   },
   "file_extension": ".py",
   "mimetype": "text/x-python",
   "name": "python",
   "nbconvert_exporter": "python",
   "pygments_lexer": "ipython3",
   "version": "3.12.1"
  }
 },
 "nbformat": 4,
 "nbformat_minor": 2
}
