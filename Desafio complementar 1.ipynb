{
 "cells": [
  {
   "cell_type": "code",
   "execution_count": null,
   "metadata": {},
   "outputs": [],
   "source": [
    "'''Desafío Complementar Aula 2'''"
   ]
  },
  {
   "cell_type": "code",
   "execution_count": 22,
   "metadata": {},
   "outputs": [
    {
     "name": "stdout",
     "output_type": "stream",
     "text": [
      "Seu IMC é  21.006841165972638\n"
     ]
    }
   ],
   "source": [
    "'''Atividade 1'''\n",
    "\n",
    "peso = float(input(\"Qual o peso\"))\n",
    "\n",
    "altura = float(input(\"Qual a altura\"))\n",
    "\n",
    "imc = float(peso/(altura**2))\n",
    "\n",
    "print(\"Seu IMC é \",imc)"
   ]
  },
  {
   "cell_type": "code",
   "execution_count": 5,
   "metadata": {},
   "outputs": [
    {
     "name": "stdout",
     "output_type": "stream",
     "text": [
      "A lista é: [1, 2, 3, 4, 5]\n"
     ]
    }
   ],
   "source": [
    "'''Atividade 2'''\n",
    "lista = []\n",
    "for i in range (5):\n",
    "    numero = int(input(\"Digite o numero inteiro\"))\n",
    "    lista.append(numero)\n",
    "print(f\"A lista é: {lista}\")    "
   ]
  },
  {
   "cell_type": "code",
   "execution_count": 25,
   "metadata": {},
   "outputs": [
    {
     "name": "stdout",
     "output_type": "stream",
     "text": [
      "A lista de nomes em formato de string é: ['Carlos', ' Andrea', ' Cassia', ' Luca']\n"
     ]
    }
   ],
   "source": [
    "'''Atividade 3'''\n",
    "\n",
    "lista = input(\"Digite os nomes separados por virgula\")\n",
    "lista_nomes = lista.split(\",\")\n",
    "lista_strings = [str(nome) for nome in lista_nomes]\n",
    "print(f\"A lista de nomes em formato de string é: {lista_strings}\")\n"
   ]
  }
 ],
 "metadata": {
  "kernelspec": {
   "display_name": "Python 3",
   "language": "python",
   "name": "python3"
  },
  "language_info": {
   "codemirror_mode": {
    "name": "ipython",
    "version": 3
   },
   "file_extension": ".py",
   "mimetype": "text/x-python",
   "name": "python",
   "nbconvert_exporter": "python",
   "pygments_lexer": "ipython3",
   "version": "3.12.1"
  }
 },
 "nbformat": 4,
 "nbformat_minor": 2
}
